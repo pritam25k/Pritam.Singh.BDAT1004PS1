{
 "cells": [
  {
   "cell_type": "markdown",
   "id": "fbafd117",
   "metadata": {},
   "source": [
    "# Question 1"
   ]
  },
  {
   "cell_type": "markdown",
   "id": "884e6c1a",
   "metadata": {},
   "source": [
    "**5** - This is a data type for integers."
   ]
  },
  {
   "cell_type": "markdown",
   "id": "2020a7e3",
   "metadata": {},
   "source": [
    "**5.0** - This is a floating-point or decimal number data type."
   ]
  },
  {
   "cell_type": "markdown",
   "id": "9052c510",
   "metadata": {},
   "source": [
    "**5 > 1** -This data type is boolean. It serves as the outcome of a comparison and can be True or False."
   ]
  },
  {
   "cell_type": "markdown",
   "id": "950bf039",
   "metadata": {},
   "source": [
    "**'5'** - This data type is a string. It is a string literal because it is encapsulated in single quotes."
   ]
  },
  {
   "cell_type": "markdown",
   "id": "df9121cc",
   "metadata": {},
   "source": [
    "**5 * 2** - This is a data type for integers. It shows what happens when two integers are multiplied."
   ]
  },
  {
   "cell_type": "markdown",
   "id": "74ebba49",
   "metadata": {},
   "source": [
    "**'5' * 2** - This data type is a string. It shows what happens when the number '5' is repeated twice."
   ]
  },
  {
   "cell_type": "markdown",
   "id": "64fd9ada",
   "metadata": {},
   "source": [
    "**'5' + '2'** - This data type is a string. It symbolises the joining of the strings \"5\" and \"2.\""
   ]
  },
  {
   "cell_type": "markdown",
   "id": "3df7d35d",
   "metadata": {},
   "source": [
    "**5 / 2** - A floating-point data type, this. It reflects the outcome of dividing a floating-point number (which is the product of two integers) by an integer.\n"
   ]
  },
  {
   "cell_type": "markdown",
   "id": "359eda89",
   "metadata": {},
   "source": [
    "**5 % 2** - This is a data type for integers. When 5 is divided by 2, it is the remainder.\n"
   ]
  },
  {
   "cell_type": "markdown",
   "id": "a5522f83",
   "metadata": {},
   "source": [
    "**{5, 2, 1}**-This data type is predefined. It indicates a disorganised grouping of distinctive elements.\n",
    "\n"
   ]
  },
  {
   "cell_type": "markdown",
   "id": "3762ffe1",
   "metadata": {},
   "source": [
    "**5 == 3** - A boolean data type, this. Since 5 is not equal to 3, the comparison result, which it represents, will be \"False.\""
   ]
  },
  {
   "cell_type": "markdown",
   "id": "799c4db6",
   "metadata": {},
   "source": [
    "**Pi (the number)** - This data type represents a floating-point or decimal number. It stands for the number \"pi,\" a mathematical constant."
   ]
  },
  {
   "cell_type": "markdown",
   "id": "09624d13",
   "metadata": {},
   "source": [
    "# Question2"
   ]
  },
  {
   "cell_type": "markdown",
   "id": "6a934064",
   "metadata": {},
   "source": [
    "## a) How many letters are there in 'Supercalifragilisticexpialidocious'?"
   ]
  },
  {
   "cell_type": "code",
   "execution_count": 1,
   "id": "bd801bdd",
   "metadata": {},
   "outputs": [
    {
     "name": "stdout",
     "output_type": "stream",
     "text": [
      "The number of letters: 34\n"
     ]
    }
   ],
   "source": [
    "a = 'Supercalifragilisticexpialidocious'\n",
    "count = len(a)\n",
    "print(\"The number of letters:\", count)"
   ]
  },
  {
   "cell_type": "markdown",
   "id": "86b2d606",
   "metadata": {},
   "source": [
    "## b) Does 'Supercalifragilisticexpialidocious' contain 'ice' as a substring? "
   ]
  },
  {
   "cell_type": "code",
   "execution_count": 4,
   "id": "c3205ada",
   "metadata": {},
   "outputs": [
    {
     "name": "stdout",
     "output_type": "stream",
     "text": [
      "The substring 'ice' is present!!\n"
     ]
    }
   ],
   "source": [
    "b = 'Supercalifragilisticexpialidocious'\n",
    "substring = 'ice'\n",
    "\n",
    "if substring in b:\n",
    "    print(\"The substring 'ice' is present!!\")\n",
    "else:\n",
    "    print(\"The substring 'ice' is not present!!\")"
   ]
  },
  {
   "cell_type": "markdown",
   "id": "4e1f701e",
   "metadata": {},
   "source": [
    "### c) Which of the following words is the longest: Supercalifragilisticexpialidocious, Honorificabilitudinitatibus, orBababadalgharaghtakamminarronnkonn? "
   ]
  },
  {
   "cell_type": "code",
   "execution_count": 6,
   "id": "252b8b0c",
   "metadata": {},
   "outputs": [
    {
     "name": "stdout",
     "output_type": "stream",
     "text": [
      "The longest word is: Supercalifragilisticexpialidocious\n"
     ]
    }
   ],
   "source": [
    "\n",
    "k = [\n",
    "    \"Supercalifragilisticexpialidocious\",\n",
    "    \"Honorificabilitudinitatibus\",\n",
    "    \"Bababadalgharaghtakamminarronnkonn\"\n",
    "]\n",
    "\n",
    "\n",
    "longest________word = max(k, key=len)\n",
    "\n",
    "print(\"The longest word is:\", longest________word)\n"
   ]
  },
  {
   "cell_type": "markdown",
   "id": "2becdc60",
   "metadata": {},
   "source": [
    "## d) Which composer comes first in the dictionary: 'Berlioz', 'Borodin', 'Brian','Bartok', 'Bellini', 'Buxtehude', 'Bernstein'. Which one comes last?"
   ]
  },
  {
   "cell_type": "code",
   "execution_count": 15,
   "id": "24ce1e1f",
   "metadata": {},
   "outputs": [
    {
     "name": "stdout",
     "output_type": "stream",
     "text": [
      "The composer which appears first is: Bartok\n",
      "The composer which appears last is: Buxtehude\n"
     ]
    }
   ],
   "source": [
    "composers  = ['Berlioz', 'Borodin', 'Brian', 'Bartok', 'Bellini', 'Buxtehude', 'Bernstein']\n",
    "\n",
    "\n",
    "initialorfirst_composer = min(composers)\n",
    "\n",
    "\n",
    "finalandlast_composer = max(composers)\n",
    "\n",
    "print(\"The composer which appears first is:\", initialorfirst_composer)\n",
    "print(\"The composer which appears last is:\", finalandlast_composer)\n"
   ]
  },
  {
   "cell_type": "markdown",
   "id": "c4ced092",
   "metadata": {},
   "source": [
    "# question 3"
   ]
  },
  {
   "cell_type": "markdown",
   "id": "635b064d",
   "metadata": {},
   "source": [
    "Implement function triangleArea(a,b,c) that takes as input the lengths of the 3\n",
    "sides of a triangle and returns the area of the triangle. By Heron's formula, the area\n",
    "of a triangle with side lengths a, b, and c is\n",
    "s(s - a)(s -b)(s -c)\n",
    ", where\n",
    "s = (a+b+c)/2.\n",
    ">>> triangleArea(2,2,2)\n",
    "1.7320508075688772"
   ]
  },
  {
   "cell_type": "code",
   "execution_count": 26,
   "id": "251bd927",
   "metadata": {},
   "outputs": [
    {
     "name": "stdout",
     "output_type": "stream",
     "text": [
      "1.7320508075688772\n"
     ]
    }
   ],
   "source": [
    "import math\n",
    "\n",
    "def triangleArea(a, b, c):\n",
    "\n",
    "    s = (a + b + c) / 2\n",
    "    \n",
    "    area = math.sqrt(s * (s - a) * (s - b) * (s - c))\n",
    "    \n",
    "    return area\n",
    "\n",
    "\n",
    "result = triangleArea(2, 2, 2)\n",
    "print(result)\n"
   ]
  },
  {
   "cell_type": "markdown",
   "id": "e09b5185",
   "metadata": {},
   "source": [
    "# question 4"
   ]
  },
  {
   "cell_type": "code",
   "execution_count": 30,
   "id": "0b6f30d1",
   "metadata": {},
   "outputs": [
    {
     "name": "stdout",
     "output_type": "stream",
     "text": [
      "Input the number of elements to be stored in the array: 1\n",
      "element - 0 : 25\n",
      "The Even elements are:\n",
      "\n",
      "The Odd elements are:\n",
      "25\n"
     ]
    }
   ],
   "source": [
    "\n",
    "number_elements = int(input(\"Input the number of elements to be stored in the array: \"))\n",
    "\n",
    "\n",
    "even_elements = []\n",
    "odd_elements = []\n",
    "\n",
    "\n",
    "for j in range(number_elements):\n",
    "    element = int(input(f\"element - {j} : \"))\n",
    "    if element % 2 == 0:\n",
    "        even_elements.append(element)\n",
    "    else:\n",
    "        odd_elements.append(element)\n",
    "\n",
    "\n",
    "print(\"The Even elements are:\")\n",
    "print(*even_elements)\n",
    "print(\"The Odd elements are:\")\n",
    "print(*odd_elements)\n"
   ]
  },
  {
   "cell_type": "markdown",
   "id": "f2e5ee61",
   "metadata": {},
   "source": [
    "# question 5"
   ]
  },
  {
   "cell_type": "markdown",
   "id": "90a5db36",
   "metadata": {},
   "source": [
    "\n",
    "### a) Write a function inside(x,y,x1,y1,x2,y2) that returns True or Falsedepending on whether the point (x,y) lies in the rectangle with lower leftcorner (x1,y1) and upper right corner (x2,y2).>>> inside(1,1,0,0,2,3)True>>> inside(-1,-1,0,0,2,3)False."
   ]
  },
  {
   "cell_type": "code",
   "execution_count": 31,
   "id": "7427e22a",
   "metadata": {},
   "outputs": [
    {
     "name": "stdout",
     "output_type": "stream",
     "text": [
      "True\n",
      "False\n"
     ]
    }
   ],
   "source": [
    "def inside(x, y, x1, y1, x2, y2):\n",
    "    \n",
    "    if x1 <= x <= x2 and y1 <= y <= y2:\n",
    "        return True\n",
    "    else:\n",
    "        return False\n",
    "    \n",
    "print(inside(1, 1, 0, 0, 2, 3))  # Should print True\n",
    "print(inside(-1, -1, 0, 0, 2, 3))  # Should print False\n"
   ]
  },
  {
   "cell_type": "markdown",
   "id": "640476d0",
   "metadata": {},
   "source": [
    "### b) Use function inside() from part a. to write an expression that tests whetherthe point (1,1) lies in both of the following rectangles: one with lower leftcorner (0.3, 0.5) and upper right corner (1.1, 0.7) and the other with lowerleft corner (0.5, 0.2) and upper right corner (1.1, 2)."
   ]
  },
  {
   "cell_type": "code",
   "execution_count": 43,
   "id": "751f4ae1",
   "metadata": {},
   "outputs": [
    {
     "name": "stdout",
     "output_type": "stream",
     "text": [
      "The point (1,1) does not lie in both rectangles.\n"
     ]
    }
   ],
   "source": [
    "\n",
    "rectangle1 = (0.3, 0.5, 1.1, 0.7)\n",
    "rectangle2 = (0.5, 0.2, 1.1, 2)\n",
    "\n",
    "\n",
    "point = (1, 1 )\n",
    "\n",
    "\n",
    "is_inside_rectangle1 = inside(point[0], point[1], rectangle1[0], rectangle1[1], rectangle1[2], rectangle1[3])\n",
    "is_inside_rectangle2 = inside(point[0], point[1], rectangle2[0], rectangle2[1], rectangle2[2], rectangle2[3])\n",
    "\n",
    "\n",
    "if is_inside_rectangle1 and is_inside_rectangle2:\n",
    "    print(\"The point (1,1) lies in both rectangles.\")\n",
    "else:\n",
    "    print(\"The point (1,1) does not lie in both rectangles.\")\n"
   ]
  },
  {
   "cell_type": "markdown",
   "id": "81e22877",
   "metadata": {},
   "source": [
    "# question 6"
   ]
  },
  {
   "cell_type": "code",
   "execution_count": 53,
   "id": "78f31f87",
   "metadata": {},
   "outputs": [
    {
     "name": "stdout",
     "output_type": "stream",
     "text": [
      "appyhay\n",
      "enterway\n"
     ]
    }
   ],
   "source": [
    "def pig(word):\n",
    "    \n",
    "    wordk = word.lower()\n",
    "\n",
    "    \n",
    "    vowels = {'a', 'e', 'i', 'o', 'u'}\n",
    "\n",
    "    \n",
    "    if wordk[0] in vowels:\n",
    "        return wordk + 'way'\n",
    "    else:\n",
    "        \n",
    "        index = 0\n",
    "        while index < len(wordk) and wordk[index] not in vowels:\n",
    "            index += 1\n",
    "\n",
    "        \n",
    "        return wordk[index:] + wordk[:index] + 'ay'\n",
    "\n",
    "\n",
    "print(pig('happy'))  # Output: 'appyhay'\n",
    "print(pig('Enter'))  # Output: 'enterway'\n"
   ]
  },
  {
   "cell_type": "markdown",
   "id": "b234506f",
   "metadata": {},
   "source": [
    "# question 7"
   ]
  },
  {
   "cell_type": "code",
   "execution_count": 3,
   "id": "59133339",
   "metadata": {},
   "outputs": [
    {
     "name": "stdout",
     "output_type": "stream",
     "text": [
      "There are no patients of blood type A.\n",
      "There are no patients of blood type B.\n",
      "There are no patients of blood type AB.\n",
      "There are no patients of blood type O.\n",
      "There are no patients of blood type OO.\n"
     ]
    }
   ],
   "source": [
    "def bldcount(filename):  \n",
    "    \n",
    "    blood_type_counts = {'A': 0, 'B': 0, 'AB': 0, 'O': 0, 'OO': 0}\n",
    "\n",
    "    try:\n",
    "        \n",
    "        with open(filename, 'r') as file:\n",
    "            \n",
    "            for line in file:\n",
    "                \n",
    "                blood_type = line.strip().upper()\n",
    "\n",
    "            \n",
    "                if blood_type in blood_type_counts:\n",
    "                    \n",
    "                    blood_type_counts[blood_type] += 1\n",
    "\n",
    "        \n",
    "        for blood_type, count in blood_type_counts.items():\n",
    "            if count == 1:\n",
    "                print(f'There is one patient of blood type {blood_type}.')\n",
    "            elif count > 1:\n",
    "                print(f'There are {count} patients of blood type {blood_type}.')\n",
    "            else:\n",
    "                print(f'There are no patients of blood type {blood_type}.')\n",
    "\n",
    "    except FileNotFoundError:\n",
    "        print(f\"Error: File '{filename}' not found.\")\n",
    "\n",
    "\n",
    "bldcount('C:/BUSINESS PROCESSES/bloodtype1.txt')\n"
   ]
  },
  {
   "cell_type": "markdown",
   "id": "7fa913dc",
   "metadata": {},
   "source": [
    "# question8"
   ]
  },
  {
   "cell_type": "code",
   "execution_count": 4,
   "id": "46a7feb4",
   "metadata": {},
   "outputs": [
    {
     "name": "stdout",
     "output_type": "stream",
     "text": [
      "Currency code 'JPY' not found in the currency rates file.\n",
      "122.96544\n",
      "None\n"
     ]
    }
   ],
   "source": [
    "def curconv(currency, amount):\n",
    "    try:\n",
    "        \n",
    "        exchange_rates = {}\n",
    "\n",
    "        \n",
    "        with open('C:/BUSINESS PROCESSES/currencies.txt', 'r') as file:\n",
    "            \n",
    "            for line in file:\n",
    "                \n",
    "                parts = line.split()\n",
    "                if len(parts) == 3:\n",
    "                    code, exchange_rate, currency_name = parts\n",
    "                    \n",
    "                    exchange_rates[code] = float(exchange_rate)\n",
    "\n",
    "       \n",
    "        if currency in exchange_rates:\n",
    "        \n",
    "            us_dollars = exchange_rates[currency] * amount\n",
    "            return us_dollars\n",
    "        else:\n",
    "            raise ValueError(f\"Currency code '{currency}' not found in the currency rates file.\")\n",
    "\n",
    "    except FileNotFoundError:\n",
    "        print(\"Error: The currency rates file 'currencies.txt' was not found.\")\n",
    "    except ValueError as e:\n",
    "        print(e)\n",
    "\n",
    "\n",
    "us_dollars_eur = curconv(\"EUR\", 100)  # Convert 100 EUR to USD\n",
    "us_dollars_jpy = curconv(\"JPY\", 5000)  # Convert 5000 JPY to USD\n",
    "\n",
    "print(us_dollars_eur)\n",
    "print(us_dollars_jpy)\n"
   ]
  },
  {
   "cell_type": "markdown",
   "id": "e84ceedb",
   "metadata": {},
   "source": [
    "# question9"
   ]
  },
  {
   "cell_type": "markdown",
   "id": "2ec7765a",
   "metadata": {},
   "source": [
    "### a) Trying to add incompatible variables, as inadding 6 + ‘a’\n"
   ]
  },
  {
   "cell_type": "markdown",
   "id": "083eca5b",
   "metadata": {},
   "source": [
    "Python will throw a TypeError if you attempt to combine variables that are incompatible, such as 6 + 'a' when adding an integer and a string.Python does not support straight addition of two different data types, in this example an integer and a string, hence this error occurs. To accomplish such an addition, you would need to explicitly change one of the operands to the other data type. For instance, depending on the desired result, you might transform the integer to a string or the string to an integer."
   ]
  },
  {
   "cell_type": "markdown",
   "id": "82257f5d",
   "metadata": {},
   "source": [
    "### b)Referring to the 12th item of a list that has only 10items"
   ]
  },
  {
   "cell_type": "markdown",
   "id": "5ffdb9f2",
   "metadata": {},
   "source": [
    "An 'IndexError' will occur in Python if you refer to item 12 in a list that only has 10 entries. You are attempting to access an index that is outside the list's boundaries, which leads to this error. List indices in Python begin at 0, therefore a list of 10 items will have valid indices ranging from 0 to 9. An 'IndexError' will be returned if you try to access an index that is outside of this range, in this case index 12."
   ]
  },
  {
   "cell_type": "markdown",
   "id": "afe5694c",
   "metadata": {},
   "source": [
    "### c)Using a value that is out of range for a function’sinput, such as calling math.sqrt(-1.0)"
   ]
  },
  {
   "cell_type": "markdown",
   "id": "ae8d6a1b",
   "metadata": {},
   "source": [
    "Using an out-of-range value as the input to a function, such as by calling math.sqrt(-1.0):\n",
    "\n",
    "we are attempting to calculate the square root of a negative number, which is not specified in mathematics, and this will result in a ValueError."
   ]
  },
  {
   "cell_type": "markdown",
   "id": "071b665c",
   "metadata": {},
   "source": [
    "### d)Using an undeclared variable, such as print(x)when x has not been defined "
   ]
  },
  {
   "cell_type": "markdown",
   "id": "928b8222",
   "metadata": {},
   "source": [
    "using a variable that isn't declared, like print(x), when x isn't defined:\n",
    "\n",
    "Because the variable 'x' hasn't been defined before you try to use it, this will result in a NameError."
   ]
  },
  {
   "cell_type": "markdown",
   "id": "bbe7c86f",
   "metadata": {},
   "source": [
    "### e)Trying to open a file that does not exist, such asmistyping the file name or looking in the wrongdirectory"
   ]
  },
  {
   "cell_type": "markdown",
   "id": "1bdc206b",
   "metadata": {},
   "source": [
    "opening a file that doesn't exist because you typed the wrong name for it or looked in the wrong directory:\n",
    "\n",
    "When trying to open a file that cannot be located, this results in a FileNotFoundError."
   ]
  },
  {
   "cell_type": "markdown",
   "id": "8616547c",
   "metadata": {},
   "source": [
    "# question 10"
   ]
  },
  {
   "cell_type": "markdown",
   "id": "45969af9",
   "metadata": {},
   "source": [
    "Encryption is the process of hiding the meaning of a text by substituting letters in the message with other letters, according to some system. If the process is successful, no one but the intended recipient can understand the encrypted message. Cryptanalysis refers to attempts to undo the encryption, even if some details of the encryption are unknown (for example, if an encrypted message has been intercepted). The first step of cryptanalysis is often to build up a table of letter frequencies in the encrypted text. Assume that the string letters is already defined as 'abcdefghijklmnopqrstuvwxyz'. Write a function called frequencies() that takes a string as its only parameter, and returns a list of integers, showing the number of times each character appears in the text. Your function may ignore any characters that are not in letters.\n",
    ">>> frequencies('The quick red fox got bored and went home.')\n",
    "[1, 1, 1, 3, 5, 1, 1, 2, 1, 0, 1, 0, 1, 2, 4, 0, 1, 2, 0, 2, 1, 0, 1, 1, 0, 0]\n",
    ">>> frequencies('apple')"
   ]
  },
  {
   "cell_type": "code",
   "execution_count": 1,
   "id": "015c1f78",
   "metadata": {},
   "outputs": [
    {
     "name": "stdout",
     "output_type": "stream",
     "text": [
      "[1, 1, 1, 3, 5, 1, 1, 2, 1, 0, 1, 0, 1, 2, 4, 0, 1, 2, 0, 3, 1, 0, 1, 1, 0, 0]\n",
      "[1, 0, 0, 0, 1, 0, 0, 0, 0, 0, 0, 1, 0, 0, 0, 2, 0, 0, 0, 0, 0, 0, 0, 0, 0, 0]\n"
     ]
    }
   ],
   "source": [
    "def frequencies(text):\n",
    "    \n",
    "    letters = 'abcdefghijklmnopqrstuvwxyz'\n",
    "    \n",
    "    \n",
    "    frequency_list = [0] * 26  # 26 letters in the English alphabet\n",
    "    \n",
    "    \n",
    "    text = text.lower()\n",
    "    \n",
    "    \n",
    "    for char in text:\n",
    "    \n",
    "        if char in letters:\n",
    "            \n",
    "            index = letters.index(char)\n",
    "            \n",
    "            frequency_list[index] += 1\n",
    "    \n",
    "    return frequency_list\n",
    "\n",
    "\n",
    "print(frequencies('The quick red fox got bored and went home.'))\n",
    "print(frequencies('apple'))\n"
   ]
  }
 ],
 "metadata": {
  "kernelspec": {
   "display_name": "Python 3 (ipykernel)",
   "language": "python",
   "name": "python3"
  },
  "language_info": {
   "codemirror_mode": {
    "name": "ipython",
    "version": 3
   },
   "file_extension": ".py",
   "mimetype": "text/x-python",
   "name": "python",
   "nbconvert_exporter": "python",
   "pygments_lexer": "ipython3",
   "version": "3.11.4"
  }
 },
 "nbformat": 4,
 "nbformat_minor": 5
}
